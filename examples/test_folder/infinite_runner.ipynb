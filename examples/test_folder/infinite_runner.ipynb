{
 "cells": [
  {
   "cell_type": "markdown",
   "metadata": {},
   "source": [
    "# Infinite runner"
   ]
  },
  {
   "cell_type": "code",
   "execution_count": 21,
   "metadata": {},
   "outputs": [],
   "source": [
    "import pandas as pd\n",
    "from radcad import Experiment\n",
    "from radcad.engine import Engine\n",
    "import openai\n",
    "import json\n",
    "import os"
   ]
  },
  {
   "cell_type": "code",
   "execution_count": 22,
   "metadata": {},
   "outputs": [],
   "source": [
    "from infinite_runner_radcad import model, simulation, experiment"
   ]
  },
  {
   "cell_type": "code",
   "execution_count": 23,
   "metadata": {},
   "outputs": [
    {
     "data": {
      "text/html": [
       "<div>\n",
       "<style scoped>\n",
       "    .dataframe tbody tr th:only-of-type {\n",
       "        vertical-align: middle;\n",
       "    }\n",
       "\n",
       "    .dataframe tbody tr th {\n",
       "        vertical-align: top;\n",
       "    }\n",
       "\n",
       "    .dataframe thead th {\n",
       "        text-align: right;\n",
       "    }\n",
       "</style>\n",
       "<table border=\"1\" class=\"dataframe\">\n",
       "  <thead>\n",
       "    <tr style=\"text-align: right;\">\n",
       "      <th></th>\n",
       "      <th>distance</th>\n",
       "      <th>coins</th>\n",
       "      <th>difficulty_factor</th>\n",
       "      <th>player_crashes</th>\n",
       "      <th>simulation</th>\n",
       "      <th>subset</th>\n",
       "      <th>run</th>\n",
       "      <th>substep</th>\n",
       "      <th>timestep</th>\n",
       "    </tr>\n",
       "  </thead>\n",
       "  <tbody>\n",
       "    <tr>\n",
       "      <th>0</th>\n",
       "      <td>0.0</td>\n",
       "      <td>0.0</td>\n",
       "      <td>0.0</td>\n",
       "      <td>0</td>\n",
       "      <td>0</td>\n",
       "      <td>0</td>\n",
       "      <td>1</td>\n",
       "      <td>0</td>\n",
       "      <td>0</td>\n",
       "    </tr>\n",
       "    <tr>\n",
       "      <th>1</th>\n",
       "      <td>5.0</td>\n",
       "      <td>0.0</td>\n",
       "      <td>0.0</td>\n",
       "      <td>0</td>\n",
       "      <td>0</td>\n",
       "      <td>0</td>\n",
       "      <td>1</td>\n",
       "      <td>1</td>\n",
       "      <td>1</td>\n",
       "    </tr>\n",
       "    <tr>\n",
       "      <th>2</th>\n",
       "      <td>10.0</td>\n",
       "      <td>1.0</td>\n",
       "      <td>1.0</td>\n",
       "      <td>0</td>\n",
       "      <td>0</td>\n",
       "      <td>0</td>\n",
       "      <td>1</td>\n",
       "      <td>1</td>\n",
       "      <td>2</td>\n",
       "    </tr>\n",
       "    <tr>\n",
       "      <th>3</th>\n",
       "      <td>15.0</td>\n",
       "      <td>2.0</td>\n",
       "      <td>1.0</td>\n",
       "      <td>0</td>\n",
       "      <td>0</td>\n",
       "      <td>0</td>\n",
       "      <td>1</td>\n",
       "      <td>1</td>\n",
       "      <td>3</td>\n",
       "    </tr>\n",
       "    <tr>\n",
       "      <th>4</th>\n",
       "      <td>20.0</td>\n",
       "      <td>3.0</td>\n",
       "      <td>2.0</td>\n",
       "      <td>0</td>\n",
       "      <td>0</td>\n",
       "      <td>0</td>\n",
       "      <td>1</td>\n",
       "      <td>1</td>\n",
       "      <td>4</td>\n",
       "    </tr>\n",
       "    <tr>\n",
       "      <th>5</th>\n",
       "      <td>25.0</td>\n",
       "      <td>4.0</td>\n",
       "      <td>2.0</td>\n",
       "      <td>1</td>\n",
       "      <td>0</td>\n",
       "      <td>0</td>\n",
       "      <td>1</td>\n",
       "      <td>1</td>\n",
       "      <td>5</td>\n",
       "    </tr>\n",
       "    <tr>\n",
       "      <th>6</th>\n",
       "      <td>25.0</td>\n",
       "      <td>4.0</td>\n",
       "      <td>2.0</td>\n",
       "      <td>1</td>\n",
       "      <td>0</td>\n",
       "      <td>0</td>\n",
       "      <td>1</td>\n",
       "      <td>1</td>\n",
       "      <td>6</td>\n",
       "    </tr>\n",
       "    <tr>\n",
       "      <th>7</th>\n",
       "      <td>25.0</td>\n",
       "      <td>4.0</td>\n",
       "      <td>2.0</td>\n",
       "      <td>1</td>\n",
       "      <td>0</td>\n",
       "      <td>0</td>\n",
       "      <td>1</td>\n",
       "      <td>1</td>\n",
       "      <td>7</td>\n",
       "    </tr>\n",
       "    <tr>\n",
       "      <th>8</th>\n",
       "      <td>25.0</td>\n",
       "      <td>4.0</td>\n",
       "      <td>2.0</td>\n",
       "      <td>1</td>\n",
       "      <td>0</td>\n",
       "      <td>0</td>\n",
       "      <td>1</td>\n",
       "      <td>1</td>\n",
       "      <td>8</td>\n",
       "    </tr>\n",
       "    <tr>\n",
       "      <th>9</th>\n",
       "      <td>25.0</td>\n",
       "      <td>4.0</td>\n",
       "      <td>2.0</td>\n",
       "      <td>1</td>\n",
       "      <td>0</td>\n",
       "      <td>0</td>\n",
       "      <td>1</td>\n",
       "      <td>1</td>\n",
       "      <td>9</td>\n",
       "    </tr>\n",
       "    <tr>\n",
       "      <th>10</th>\n",
       "      <td>25.0</td>\n",
       "      <td>4.0</td>\n",
       "      <td>2.0</td>\n",
       "      <td>1</td>\n",
       "      <td>0</td>\n",
       "      <td>0</td>\n",
       "      <td>1</td>\n",
       "      <td>1</td>\n",
       "      <td>10</td>\n",
       "    </tr>\n",
       "    <tr>\n",
       "      <th>11</th>\n",
       "      <td>25.0</td>\n",
       "      <td>4.0</td>\n",
       "      <td>2.0</td>\n",
       "      <td>1</td>\n",
       "      <td>0</td>\n",
       "      <td>0</td>\n",
       "      <td>1</td>\n",
       "      <td>1</td>\n",
       "      <td>11</td>\n",
       "    </tr>\n",
       "    <tr>\n",
       "      <th>12</th>\n",
       "      <td>25.0</td>\n",
       "      <td>4.0</td>\n",
       "      <td>2.0</td>\n",
       "      <td>1</td>\n",
       "      <td>0</td>\n",
       "      <td>0</td>\n",
       "      <td>1</td>\n",
       "      <td>1</td>\n",
       "      <td>12</td>\n",
       "    </tr>\n",
       "    <tr>\n",
       "      <th>13</th>\n",
       "      <td>25.0</td>\n",
       "      <td>4.0</td>\n",
       "      <td>2.0</td>\n",
       "      <td>1</td>\n",
       "      <td>0</td>\n",
       "      <td>0</td>\n",
       "      <td>1</td>\n",
       "      <td>1</td>\n",
       "      <td>13</td>\n",
       "    </tr>\n",
       "    <tr>\n",
       "      <th>14</th>\n",
       "      <td>25.0</td>\n",
       "      <td>4.0</td>\n",
       "      <td>2.0</td>\n",
       "      <td>1</td>\n",
       "      <td>0</td>\n",
       "      <td>0</td>\n",
       "      <td>1</td>\n",
       "      <td>1</td>\n",
       "      <td>14</td>\n",
       "    </tr>\n",
       "    <tr>\n",
       "      <th>15</th>\n",
       "      <td>25.0</td>\n",
       "      <td>4.0</td>\n",
       "      <td>2.0</td>\n",
       "      <td>1</td>\n",
       "      <td>0</td>\n",
       "      <td>0</td>\n",
       "      <td>1</td>\n",
       "      <td>1</td>\n",
       "      <td>15</td>\n",
       "    </tr>\n",
       "    <tr>\n",
       "      <th>16</th>\n",
       "      <td>25.0</td>\n",
       "      <td>4.0</td>\n",
       "      <td>2.0</td>\n",
       "      <td>1</td>\n",
       "      <td>0</td>\n",
       "      <td>0</td>\n",
       "      <td>1</td>\n",
       "      <td>1</td>\n",
       "      <td>16</td>\n",
       "    </tr>\n",
       "    <tr>\n",
       "      <th>17</th>\n",
       "      <td>25.0</td>\n",
       "      <td>4.0</td>\n",
       "      <td>2.0</td>\n",
       "      <td>1</td>\n",
       "      <td>0</td>\n",
       "      <td>0</td>\n",
       "      <td>1</td>\n",
       "      <td>1</td>\n",
       "      <td>17</td>\n",
       "    </tr>\n",
       "    <tr>\n",
       "      <th>18</th>\n",
       "      <td>25.0</td>\n",
       "      <td>4.0</td>\n",
       "      <td>2.0</td>\n",
       "      <td>1</td>\n",
       "      <td>0</td>\n",
       "      <td>0</td>\n",
       "      <td>1</td>\n",
       "      <td>1</td>\n",
       "      <td>18</td>\n",
       "    </tr>\n",
       "    <tr>\n",
       "      <th>19</th>\n",
       "      <td>25.0</td>\n",
       "      <td>4.0</td>\n",
       "      <td>2.0</td>\n",
       "      <td>1</td>\n",
       "      <td>0</td>\n",
       "      <td>0</td>\n",
       "      <td>1</td>\n",
       "      <td>1</td>\n",
       "      <td>19</td>\n",
       "    </tr>\n",
       "  </tbody>\n",
       "</table>\n",
       "</div>"
      ],
      "text/plain": [
       "    distance  coins  difficulty_factor  player_crashes  simulation  subset  \\\n",
       "0        0.0    0.0                0.0               0           0       0   \n",
       "1        5.0    0.0                0.0               0           0       0   \n",
       "2       10.0    1.0                1.0               0           0       0   \n",
       "3       15.0    2.0                1.0               0           0       0   \n",
       "4       20.0    3.0                2.0               0           0       0   \n",
       "5       25.0    4.0                2.0               1           0       0   \n",
       "6       25.0    4.0                2.0               1           0       0   \n",
       "7       25.0    4.0                2.0               1           0       0   \n",
       "8       25.0    4.0                2.0               1           0       0   \n",
       "9       25.0    4.0                2.0               1           0       0   \n",
       "10      25.0    4.0                2.0               1           0       0   \n",
       "11      25.0    4.0                2.0               1           0       0   \n",
       "12      25.0    4.0                2.0               1           0       0   \n",
       "13      25.0    4.0                2.0               1           0       0   \n",
       "14      25.0    4.0                2.0               1           0       0   \n",
       "15      25.0    4.0                2.0               1           0       0   \n",
       "16      25.0    4.0                2.0               1           0       0   \n",
       "17      25.0    4.0                2.0               1           0       0   \n",
       "18      25.0    4.0                2.0               1           0       0   \n",
       "19      25.0    4.0                2.0               1           0       0   \n",
       "\n",
       "    run  substep  timestep  \n",
       "0     1        0         0  \n",
       "1     1        1         1  \n",
       "2     1        1         2  \n",
       "3     1        1         3  \n",
       "4     1        1         4  \n",
       "5     1        1         5  \n",
       "6     1        1         6  \n",
       "7     1        1         7  \n",
       "8     1        1         8  \n",
       "9     1        1         9  \n",
       "10    1        1        10  \n",
       "11    1        1        11  \n",
       "12    1        1        12  \n",
       "13    1        1        13  \n",
       "14    1        1        14  \n",
       "15    1        1        15  \n",
       "16    1        1        16  \n",
       "17    1        1        17  \n",
       "18    1        1        18  \n",
       "19    1        1        19  "
      ]
     },
     "execution_count": 23,
     "metadata": {},
     "output_type": "execute_result"
    }
   ],
   "source": [
    "df = pd.DataFrame(experiment.run())\n",
    "df.head(20)"
   ]
  },
  {
   "cell_type": "code",
   "execution_count": 24,
   "metadata": {},
   "outputs": [
    {
     "data": {
      "text/plain": [
       "{'crash_chance': [60.0], 'crash_increase': [22.0]}"
      ]
     },
     "execution_count": 24,
     "metadata": {},
     "output_type": "execute_result"
    }
   ],
   "source": [
    "simulation.model.params"
   ]
  },
  {
   "cell_type": "markdown",
   "metadata": {},
   "source": [
    "## Start chatting with the agents "
   ]
  },
  {
   "cell_type": "markdown",
   "metadata": {},
   "source": [
    "### Input your openai key"
   ]
  },
  {
   "cell_type": "code",
   "execution_count": 5,
   "metadata": {},
   "outputs": [],
   "source": [
    "from cadcad_gpt import cadcad_gpt\n",
    "openai.api_key = os.getenv(\"OPENAI_API_KEY\")\n",
    "# openai.api_key = 'sk-<your key here>'"
   ]
  },
  {
   "cell_type": "markdown",
   "metadata": {},
   "source": [
    "### You can get it to fetch information about the model from the documentation"
   ]
  },
  {
   "attachments": {
    "image.png": {
     "image/png": "[encoded data removed]"
    }
   },
   "cell_type": "markdown",
   "metadata": {},
   "source": [
    "![image.png](attachment:image.png)"
   ]
  },
  {
   "cell_type": "code",
   "execution_count": 6,
   "metadata": {},
   "outputs": [
    {
     "name": "stdout",
     "output_type": "stream",
     "text": [
      "\u001b[32mPlanner Agent:\u001b[0m\n",
      "I have made a plan to follow: \n",
      "\n",
      " 1) use the function model_documentation to fetch the assumptions in this model. \n",
      "\n",
      "\n",
      "\u001b[31mExecutor Agent:\u001b[0m\n",
      "Thought: My task is to  1) use the function model_documentation to fetch the assumptions in this model. \n",
      "Action: I should call model_documentation function with these {'question': 'What are the assumptions in this model?'} arguments\n",
      "Observation:  The assumptions in this model are:\n",
      "- The game environment is two-dimensional.\n",
      "- The character's movements are restricted to jumping and sliding.\n",
      "- Obstacles and power-ups appear at predefined intervals.\n",
      "- Collision detection is based on basic geometric shapes.\n"
     ]
    }
   ],
   "source": [
    "cadcad_gpt(\"what are the assumptions of the model?\")"
   ]
  },
  {
   "cell_type": "code",
   "execution_count": 7,
   "metadata": {},
   "outputs": [
    {
     "name": "stdout",
     "output_type": "stream",
     "text": [
      "\u001b[32mPlanner Agent:\u001b[0m\n",
      "I have made a plan to follow: \n",
      "\n",
      " 1) use the function model_documentation to fetch the metrics and params in the model. \n",
      "\n",
      "\n",
      "\u001b[31mExecutor Agent:\u001b[0m\n",
      "Thought: My task is to  1) use the function model_documentation to fetch the metrics and params in the model. \n",
      "Action: I should call model_documentation function with these {'question': 'What are the metrics and parameters in the model?'} arguments\n",
      "Observation:  The metrics in the model are:\n",
      "1. Score\n",
      "2. Distance Traveled\n",
      "3. Coins Collected\n",
      "4. Time Survived\n",
      "5. High Score\n",
      "\n",
      "The parameters in the model are:\n",
      "1. Character Speed\n",
      "2. Obstacle Frequency\n",
      "3. Jump Height\n",
      "4. Power-up Spawn Rate\n",
      "5. Game Environment\n",
      "6. Collision Detection Precision\n"
     ]
    }
   ],
   "source": [
    "cadcad_gpt(\"what are the metrics and params of the model in the docs?\")"
   ]
  },
  {
   "cell_type": "markdown",
   "metadata": {},
   "source": [
    "### You can fetch the parameter values currently set in the experiment object"
   ]
  },
  {
   "cell_type": "code",
   "execution_count": 8,
   "metadata": {},
   "outputs": [
    {
     "name": "stdout",
     "output_type": "stream",
     "text": [
      "\u001b[32mPlanner Agent:\u001b[0m\n",
      "I have made a plan to follow: \n",
      "\n",
      " 1) we use the function model_info to fetch all the parameters \n",
      "\n",
      "\n",
      "\u001b[31mExecutor Agent:\u001b[0m\n",
      "Thought: My task is to  1) we use the function model_info to fetch all the parameters \n",
      "Action: I should call model_info function with these {'param': 'all'} arguments\n",
      "Observation:  {'crash_chance': [10], 'crash_increase': [1]}\n"
     ]
    }
   ],
   "source": [
    "cadcad_gpt(\"what are the current values of all the params?\")"
   ]
  },
  {
   "cell_type": "code",
   "execution_count": 9,
   "metadata": {},
   "outputs": [
    {
     "name": "stdout",
     "output_type": "stream",
     "text": [
      "\u001b[32mPlanner Agent:\u001b[0m\n",
      "I have made a plan to follow: \n",
      "\n",
      " 1) we use the function model_info to fetch the crash_chance parameter \n",
      "\n",
      "\n",
      "\u001b[31mExecutor Agent:\u001b[0m\n",
      "Thought: My task is to  1) we use the function model_info to fetch the crash_chance parameter \n",
      "Action: I should call model_info function with these {'param': 'crash_chance'} arguments\n",
      "Observation:  crash_chance = [10]\n"
     ]
    }
   ],
   "source": [
    "cadcad_gpt(\"what are the current values of crash_chance param?\")"
   ]
  },
  {
   "cell_type": "markdown",
   "metadata": {},
   "source": [
    "### You can analyze the dataframe "
   ]
  },
  {
   "cell_type": "code",
   "execution_count": 10,
   "metadata": {},
   "outputs": [
    {
     "name": "stdout",
     "output_type": "stream",
     "text": [
      "\u001b[32mPlanner Agent:\u001b[0m\n",
      "I have made a plan to follow: \n",
      "\n",
      " 1) we use the function analyze_dataframe to calculate the average value of the difficulty factor column in the dataframe. \n",
      "\n",
      "\n",
      "\u001b[31mExecutor Agent:\u001b[0m\n",
      "Thought: My task is to  1) we use the function analyze_dataframe to calculate the average value of the difficulty factor column in the dataframe. \n",
      "Action: I should call analyze_dataframe function with these {'question': 'What is the average value of the difficulty factor column in the dataframe?'} arguments\n",
      "\u001b[34mAnalyzer Agent:\u001b[0m\n",
      "\n",
      "\n",
      "\u001b[1m> Entering new AgentExecutor chain...\u001b[0m\n",
      "\u001b[32;1m\u001b[1;3m\n",
      "Invoking: `python_repl_ast` with `{'query': \"df['difficulty_factor'].mean()\"}`\n",
      "\n",
      "\n",
      "\u001b[0m\u001b[36;1m\u001b[1;3m6.804878048780488\u001b[0m\u001b[32;1m\u001b[1;3mThe average value of the difficulty factor column in the dataframe is approximately 6.805.\u001b[0m\n",
      "\n",
      "\u001b[1m> Finished chain.\u001b[0m\n",
      "Observation:  The average value of the difficulty factor column in the dataframe is approximately 6.805.\n"
     ]
    }
   ],
   "source": [
    "cadcad_gpt(\"what is the average value of the difficulty factor in the dataframe?\")"
   ]
  },
  {
   "cell_type": "code",
   "execution_count": 11,
   "metadata": {},
   "outputs": [
    {
     "data": {
      "text/plain": [
       "6.804878048780488"
      ]
     },
     "execution_count": 11,
     "metadata": {},
     "output_type": "execute_result"
    }
   ],
   "source": [
    "df['difficulty_factor'].mean()"
   ]
  },
  {
   "cell_type": "code",
   "execution_count": 12,
   "metadata": {},
   "outputs": [
    {
     "name": "stdout",
     "output_type": "stream",
     "text": [
      "\u001b[32mPlanner Agent:\u001b[0m\n",
      "I have made a plan to follow: \n",
      "\n",
      " 1) we use the function analyze_dataframe to fetch the maximum value of the coins column. \n",
      "\n",
      "\n",
      "\u001b[31mExecutor Agent:\u001b[0m\n",
      "Thought: My task is to  1) we use the function analyze_dataframe to fetch the maximum value of the coins column. \n",
      "Action: I should call analyze_dataframe function with these {'question': 'What is the maximum value of the coins column?'} arguments\n",
      "\u001b[34mAnalyzer Agent:\u001b[0m\n",
      "\n",
      "\n",
      "\u001b[1m> Entering new AgentExecutor chain...\u001b[0m\n",
      "\u001b[32;1m\u001b[1;3m\n",
      "Invoking: `python_repl_ast` with `{'query': \"df['coins'].max()\"}`\n",
      "\n",
      "\n",
      "\u001b[0m\u001b[36;1m\u001b[1;3m25.0\u001b[0m\u001b[32;1m\u001b[1;3mThe maximum value of the `coins` column is 25.\u001b[0m\n",
      "\n",
      "\u001b[1m> Finished chain.\u001b[0m\n",
      "Observation:  The maximum value of the `coins` column is 25.\n"
     ]
    }
   ],
   "source": [
    "cadcad_gpt(\"what is the maximum value of the coins column?\")"
   ]
  },
  {
   "cell_type": "code",
   "execution_count": 13,
   "metadata": {},
   "outputs": [
    {
     "data": {
      "text/plain": [
       "25.0"
      ]
     },
     "execution_count": 13,
     "metadata": {},
     "output_type": "execute_result"
    }
   ],
   "source": [
    "df['coins'].max()"
   ]
  },
  {
   "cell_type": "code",
   "execution_count": 14,
   "metadata": {},
   "outputs": [
    {
     "name": "stdout",
     "output_type": "stream",
     "text": [
      "\u001b[32mPlanner Agent:\u001b[0m\n",
      "I have made a plan to follow: \n",
      "\n",
      " 1) use the function analyze_dataframe to fetch the timestep when the player crash value changed. \n",
      "\n",
      "\n",
      "\u001b[31mExecutor Agent:\u001b[0m\n",
      "Thought: My task is to  1) use the function analyze_dataframe to fetch the timestep when the player crash value changed. \n",
      "Action: I should call analyze_dataframe function with these {'question': 'timestep when the player crash value changed'} arguments\n",
      "\u001b[34mAnalyzer Agent:\u001b[0m\n",
      "\n",
      "\n",
      "\u001b[1m> Entering new AgentExecutor chain...\u001b[0m\n",
      "\u001b[32;1m\u001b[1;3m\n",
      "Invoking: `python_repl_ast` with `{'query': \"df[df['player_crashes'].diff() != 0]['timestep']\"}`\n",
      "\n",
      "\n",
      "\u001b[0m\u001b[36;1m\u001b[1;3m0      0\n",
      "18    18\n",
      "Name: timestep, dtype: int64\u001b[0m\u001b[32;1m\u001b[1;3mThe timestep when the player crash value changed is 0 and 18.\u001b[0m\n",
      "\n",
      "\u001b[1m> Finished chain.\u001b[0m\n",
      "Observation:  The timestep when the player crash value changed is 0 and 18.\n"
     ]
    }
   ],
   "source": [
    "cadcad_gpt(\"What timestep did the player crash value change?\")"
   ]
  },
  {
   "cell_type": "code",
   "execution_count": 15,
   "metadata": {},
   "outputs": [
    {
     "data": {
      "text/html": [
       "<div>\n",
       "<style scoped>\n",
       "    .dataframe tbody tr th:only-of-type {\n",
       "        vertical-align: middle;\n",
       "    }\n",
       "\n",
       "    .dataframe tbody tr th {\n",
       "        vertical-align: top;\n",
       "    }\n",
       "\n",
       "    .dataframe thead th {\n",
       "        text-align: right;\n",
       "    }\n",
       "</style>\n",
       "<table border=\"1\" class=\"dataframe\">\n",
       "  <thead>\n",
       "    <tr style=\"text-align: right;\">\n",
       "      <th></th>\n",
       "      <th>distance</th>\n",
       "      <th>coins</th>\n",
       "      <th>difficulty_factor</th>\n",
       "      <th>player_crashes</th>\n",
       "      <th>simulation</th>\n",
       "      <th>subset</th>\n",
       "      <th>run</th>\n",
       "      <th>substep</th>\n",
       "      <th>timestep</th>\n",
       "    </tr>\n",
       "  </thead>\n",
       "  <tbody>\n",
       "    <tr>\n",
       "      <th>0</th>\n",
       "      <td>0.0</td>\n",
       "      <td>0.0</td>\n",
       "      <td>0.0</td>\n",
       "      <td>0</td>\n",
       "      <td>0</td>\n",
       "      <td>0</td>\n",
       "      <td>1</td>\n",
       "      <td>0</td>\n",
       "      <td>0</td>\n",
       "    </tr>\n",
       "    <tr>\n",
       "      <th>1</th>\n",
       "      <td>5.0</td>\n",
       "      <td>0.0</td>\n",
       "      <td>0.0</td>\n",
       "      <td>0</td>\n",
       "      <td>0</td>\n",
       "      <td>0</td>\n",
       "      <td>1</td>\n",
       "      <td>1</td>\n",
       "      <td>1</td>\n",
       "    </tr>\n",
       "    <tr>\n",
       "      <th>2</th>\n",
       "      <td>10.0</td>\n",
       "      <td>1.0</td>\n",
       "      <td>1.0</td>\n",
       "      <td>0</td>\n",
       "      <td>0</td>\n",
       "      <td>0</td>\n",
       "      <td>1</td>\n",
       "      <td>1</td>\n",
       "      <td>2</td>\n",
       "    </tr>\n",
       "    <tr>\n",
       "      <th>3</th>\n",
       "      <td>15.0</td>\n",
       "      <td>2.0</td>\n",
       "      <td>1.0</td>\n",
       "      <td>0</td>\n",
       "      <td>0</td>\n",
       "      <td>0</td>\n",
       "      <td>1</td>\n",
       "      <td>1</td>\n",
       "      <td>3</td>\n",
       "    </tr>\n",
       "    <tr>\n",
       "      <th>4</th>\n",
       "      <td>20.0</td>\n",
       "      <td>3.0</td>\n",
       "      <td>2.0</td>\n",
       "      <td>0</td>\n",
       "      <td>0</td>\n",
       "      <td>0</td>\n",
       "      <td>1</td>\n",
       "      <td>1</td>\n",
       "      <td>4</td>\n",
       "    </tr>\n",
       "    <tr>\n",
       "      <th>5</th>\n",
       "      <td>25.0</td>\n",
       "      <td>4.0</td>\n",
       "      <td>2.0</td>\n",
       "      <td>0</td>\n",
       "      <td>0</td>\n",
       "      <td>0</td>\n",
       "      <td>1</td>\n",
       "      <td>1</td>\n",
       "      <td>5</td>\n",
       "    </tr>\n",
       "    <tr>\n",
       "      <th>6</th>\n",
       "      <td>30.0</td>\n",
       "      <td>5.0</td>\n",
       "      <td>3.0</td>\n",
       "      <td>0</td>\n",
       "      <td>0</td>\n",
       "      <td>0</td>\n",
       "      <td>1</td>\n",
       "      <td>1</td>\n",
       "      <td>6</td>\n",
       "    </tr>\n",
       "    <tr>\n",
       "      <th>7</th>\n",
       "      <td>35.0</td>\n",
       "      <td>6.0</td>\n",
       "      <td>3.0</td>\n",
       "      <td>0</td>\n",
       "      <td>0</td>\n",
       "      <td>0</td>\n",
       "      <td>1</td>\n",
       "      <td>1</td>\n",
       "      <td>7</td>\n",
       "    </tr>\n",
       "    <tr>\n",
       "      <th>8</th>\n",
       "      <td>40.0</td>\n",
       "      <td>7.0</td>\n",
       "      <td>4.0</td>\n",
       "      <td>0</td>\n",
       "      <td>0</td>\n",
       "      <td>0</td>\n",
       "      <td>1</td>\n",
       "      <td>1</td>\n",
       "      <td>8</td>\n",
       "    </tr>\n",
       "    <tr>\n",
       "      <th>9</th>\n",
       "      <td>45.0</td>\n",
       "      <td>8.0</td>\n",
       "      <td>4.0</td>\n",
       "      <td>0</td>\n",
       "      <td>0</td>\n",
       "      <td>0</td>\n",
       "      <td>1</td>\n",
       "      <td>1</td>\n",
       "      <td>9</td>\n",
       "    </tr>\n",
       "    <tr>\n",
       "      <th>10</th>\n",
       "      <td>50.0</td>\n",
       "      <td>9.0</td>\n",
       "      <td>5.0</td>\n",
       "      <td>0</td>\n",
       "      <td>0</td>\n",
       "      <td>0</td>\n",
       "      <td>1</td>\n",
       "      <td>1</td>\n",
       "      <td>10</td>\n",
       "    </tr>\n",
       "    <tr>\n",
       "      <th>11</th>\n",
       "      <td>55.0</td>\n",
       "      <td>11.0</td>\n",
       "      <td>5.0</td>\n",
       "      <td>0</td>\n",
       "      <td>0</td>\n",
       "      <td>0</td>\n",
       "      <td>1</td>\n",
       "      <td>1</td>\n",
       "      <td>11</td>\n",
       "    </tr>\n",
       "    <tr>\n",
       "      <th>12</th>\n",
       "      <td>60.0</td>\n",
       "      <td>13.0</td>\n",
       "      <td>6.0</td>\n",
       "      <td>0</td>\n",
       "      <td>0</td>\n",
       "      <td>0</td>\n",
       "      <td>1</td>\n",
       "      <td>1</td>\n",
       "      <td>12</td>\n",
       "    </tr>\n",
       "    <tr>\n",
       "      <th>13</th>\n",
       "      <td>65.0</td>\n",
       "      <td>15.0</td>\n",
       "      <td>6.0</td>\n",
       "      <td>0</td>\n",
       "      <td>0</td>\n",
       "      <td>0</td>\n",
       "      <td>1</td>\n",
       "      <td>1</td>\n",
       "      <td>13</td>\n",
       "    </tr>\n",
       "    <tr>\n",
       "      <th>14</th>\n",
       "      <td>70.0</td>\n",
       "      <td>17.0</td>\n",
       "      <td>7.0</td>\n",
       "      <td>0</td>\n",
       "      <td>0</td>\n",
       "      <td>0</td>\n",
       "      <td>1</td>\n",
       "      <td>1</td>\n",
       "      <td>14</td>\n",
       "    </tr>\n",
       "    <tr>\n",
       "      <th>15</th>\n",
       "      <td>75.0</td>\n",
       "      <td>19.0</td>\n",
       "      <td>7.0</td>\n",
       "      <td>0</td>\n",
       "      <td>0</td>\n",
       "      <td>0</td>\n",
       "      <td>1</td>\n",
       "      <td>1</td>\n",
       "      <td>15</td>\n",
       "    </tr>\n",
       "    <tr>\n",
       "      <th>16</th>\n",
       "      <td>80.0</td>\n",
       "      <td>21.0</td>\n",
       "      <td>8.0</td>\n",
       "      <td>0</td>\n",
       "      <td>0</td>\n",
       "      <td>0</td>\n",
       "      <td>1</td>\n",
       "      <td>1</td>\n",
       "      <td>16</td>\n",
       "    </tr>\n",
       "    <tr>\n",
       "      <th>17</th>\n",
       "      <td>85.0</td>\n",
       "      <td>23.0</td>\n",
       "      <td>8.0</td>\n",
       "      <td>0</td>\n",
       "      <td>0</td>\n",
       "      <td>0</td>\n",
       "      <td>1</td>\n",
       "      <td>1</td>\n",
       "      <td>17</td>\n",
       "    </tr>\n",
       "    <tr>\n",
       "      <th>18</th>\n",
       "      <td>90.0</td>\n",
       "      <td>25.0</td>\n",
       "      <td>9.0</td>\n",
       "      <td>1</td>\n",
       "      <td>0</td>\n",
       "      <td>0</td>\n",
       "      <td>1</td>\n",
       "      <td>1</td>\n",
       "      <td>18</td>\n",
       "    </tr>\n",
       "    <tr>\n",
       "      <th>19</th>\n",
       "      <td>90.0</td>\n",
       "      <td>25.0</td>\n",
       "      <td>9.0</td>\n",
       "      <td>1</td>\n",
       "      <td>0</td>\n",
       "      <td>0</td>\n",
       "      <td>1</td>\n",
       "      <td>1</td>\n",
       "      <td>19</td>\n",
       "    </tr>\n",
       "  </tbody>\n",
       "</table>\n",
       "</div>"
      ],
      "text/plain": [
       "    distance  coins  difficulty_factor  player_crashes  simulation  subset  \\\n",
       "0        0.0    0.0                0.0               0           0       0   \n",
       "1        5.0    0.0                0.0               0           0       0   \n",
       "2       10.0    1.0                1.0               0           0       0   \n",
       "3       15.0    2.0                1.0               0           0       0   \n",
       "4       20.0    3.0                2.0               0           0       0   \n",
       "5       25.0    4.0                2.0               0           0       0   \n",
       "6       30.0    5.0                3.0               0           0       0   \n",
       "7       35.0    6.0                3.0               0           0       0   \n",
       "8       40.0    7.0                4.0               0           0       0   \n",
       "9       45.0    8.0                4.0               0           0       0   \n",
       "10      50.0    9.0                5.0               0           0       0   \n",
       "11      55.0   11.0                5.0               0           0       0   \n",
       "12      60.0   13.0                6.0               0           0       0   \n",
       "13      65.0   15.0                6.0               0           0       0   \n",
       "14      70.0   17.0                7.0               0           0       0   \n",
       "15      75.0   19.0                7.0               0           0       0   \n",
       "16      80.0   21.0                8.0               0           0       0   \n",
       "17      85.0   23.0                8.0               0           0       0   \n",
       "18      90.0   25.0                9.0               1           0       0   \n",
       "19      90.0   25.0                9.0               1           0       0   \n",
       "\n",
       "    run  substep  timestep  \n",
       "0     1        0         0  \n",
       "1     1        1         1  \n",
       "2     1        1         2  \n",
       "3     1        1         3  \n",
       "4     1        1         4  \n",
       "5     1        1         5  \n",
       "6     1        1         6  \n",
       "7     1        1         7  \n",
       "8     1        1         8  \n",
       "9     1        1         9  \n",
       "10    1        1        10  \n",
       "11    1        1        11  \n",
       "12    1        1        12  \n",
       "13    1        1        13  \n",
       "14    1        1        14  \n",
       "15    1        1        15  \n",
       "16    1        1        16  \n",
       "17    1        1        17  \n",
       "18    1        1        18  \n",
       "19    1        1        19  "
      ]
     },
     "execution_count": 15,
     "metadata": {},
     "output_type": "execute_result"
    }
   ],
   "source": [
    "df.head(20)"
   ]
  },
  {
   "cell_type": "markdown",
   "metadata": {},
   "source": [
    "### You can change parameters"
   ]
  },
  {
   "cell_type": "code",
   "execution_count": 16,
   "metadata": {},
   "outputs": [
    {
     "data": {
      "text/plain": [
       "[10]"
      ]
     },
     "execution_count": 16,
     "metadata": {},
     "output_type": "execute_result"
    }
   ],
   "source": [
    "model.params['crash_chance']"
   ]
  },
  {
   "cell_type": "code",
   "execution_count": 25,
   "metadata": {},
   "outputs": [
    {
     "name": "stdout",
     "output_type": "stream",
     "text": [
      "\u001b[32mPlanner Agent:\u001b[0m\n",
      "I have made a plan to follow: \n",
      "\n",
      " 1) We use function change_param to change the crash chance parameter to 12. \n",
      "\n",
      "\n",
      "\u001b[31mExecutor Agent:\u001b[0m\n",
      "Thought: My task is to  1) We use function change_param to change the crash chance parameter to 12. \n",
      "Action: I should call change_param function with these {'param': 'crash_chance', 'value': '12'} arguments\n",
      "Observation:  new crash_chance value is 12.0 and the simulation dataframe is updated\n"
     ]
    }
   ],
   "source": [
    "cadcad_gpt(\"change the crash chance parameter to 12\")"
   ]
  },
  {
   "cell_type": "code",
   "execution_count": 26,
   "metadata": {},
   "outputs": [
    {
     "data": {
      "text/plain": [
       "[12.0]"
      ]
     },
     "execution_count": 26,
     "metadata": {},
     "output_type": "execute_result"
    }
   ],
   "source": [
    "model.params['crash_chance']"
   ]
  },
  {
   "cell_type": "markdown",
   "metadata": {},
   "source": [
    "### You can chain changing of parameters with analyzing dataframe"
   ]
  },
  {
   "cell_type": "code",
   "execution_count": 27,
   "metadata": {},
   "outputs": [
    {
     "name": "stdout",
     "output_type": "stream",
     "text": [
      "\u001b[32mPlanner Agent:\u001b[0m\n",
      "I have made a plan to follow: \n",
      "\n",
      " 1) Use the function change_param to change the crash chance parameter to 60.\n",
      "2) Use the function analyze_dataframe to get the number of coins in the final row. \n",
      "\n",
      "\n",
      "\u001b[31mExecutor Agent:\u001b[0m\n",
      "Thought: My task is to  1) Use the function change_param to change the crash chance parameter to 60.\n",
      "Action: I should call change_param function with these {'param': 'crash_chance', 'value': '60'} arguments\n",
      "Observation:  new crash_chance value is 60.0 and the simulation dataframe is updated\n",
      "\u001b[31mExecutor Agent:\u001b[0m\n",
      "Thought: My task is to 2) Use the function analyze_dataframe to get the number of coins in the final row. \n",
      "Action: I should call analyze_dataframe function with these {'question': 'What is the number of coins in the final row?'} arguments\n",
      "\u001b[34mAnalyzer Agent:\u001b[0m\n",
      "\n",
      "\n",
      "\u001b[1m> Entering new AgentExecutor chain...\u001b[0m\n",
      "\u001b[32;1m\u001b[1;3m\n",
      "Invoking: `python_repl_ast` with `{'query': \"df['coins'].iloc[-1]\"}`\n",
      "\n",
      "\n",
      "\u001b[0m\u001b[36;1m\u001b[1;3m4.0\u001b[0m\u001b[32;1m\u001b[1;3mThe number of coins in the final row is 4.\u001b[0m\n",
      "\n",
      "\u001b[1m> Finished chain.\u001b[0m\n",
      "Observation:  The number of coins in the final row is 4.\n"
     ]
    }
   ],
   "source": [
    "cadcad_gpt(\"change the crash chance parameter to 60, and tell me the number of coins in the final row\")"
   ]
  },
  {
   "cell_type": "code",
   "execution_count": 20,
   "metadata": {},
   "outputs": [
    {
     "name": "stdout",
     "output_type": "stream",
     "text": [
      "\u001b[32mPlanner Agent:\u001b[0m\n",
      "I have made a plan to follow: \n",
      "\n",
      " 1) we use the function model_info to fetch the crash_increase parameter.\n",
      "2) we use the function change_param to change the crash_increase parameter to 22.\n",
      "3) we use the function analyze_dataframe to find the first occurrence of the crash column being equal to 1.\n",
      "\n",
      "\n",
      "\u001b[31mExecutor Agent:\u001b[0m\n",
      "Thought: My task is to  1) we use the function model_info to fetch the crash_increase parameter.\n",
      "Action: I should call model_info function with these {'param': 'crash_increase'} arguments\n",
      "Observation:  crash_increase = [1]\n",
      "\u001b[31mExecutor Agent:\u001b[0m\n",
      "Thought: My task is to 2) we use the function change_param to change the crash_increase parameter to 22.\n",
      "Action: I should call change_param function with these {'param': 'crash_increase', 'value': '22'} arguments\n",
      "Observation:  new crash_increase value is 22.0 and the simulation dataframe is updated\n",
      "\u001b[31mExecutor Agent:\u001b[0m\n",
      "Thought: My task is to 3) we use the function analyze_dataframe to find the first occurrence of the crash column being equal to 1.\n",
      "Action: I should call analyze_dataframe function with these {'question': 'What is the first occurrence of the crash column being equal to 1?'} arguments\n",
      "\u001b[34mAnalyzer Agent:\u001b[0m\n",
      "\n",
      "\n",
      "\u001b[1m> Entering new AgentExecutor chain...\u001b[0m\n",
      "\u001b[32;1m\u001b[1;3m\n",
      "Invoking: `python_repl_ast` with `{'query': \"df[df['player_crashes'] == 1].index[0]\"}`\n",
      "\n",
      "\n",
      "\u001b[0m\u001b[36;1m\u001b[1;3m5\u001b[0m\u001b[32;1m\u001b[1;3mThe first occurrence of the crash column being equal to 1 is at index 5.\u001b[0m\n",
      "\n",
      "\u001b[1m> Finished chain.\u001b[0m\n",
      "Observation:  The first occurrence of the crash column being equal to 1 is at index 5.\n"
     ]
    }
   ],
   "source": [
    "cadcad_gpt(\"whats the current value of crash increase param, change it to 22, and tell me when the crash column changed to 1?\")"
   ]
  }
 ],
 "metadata": {
  "kernelspec": {
   "display_name": "cadcad_GPT",
   "language": "python",
   "name": "python3"
  },
  "language_info": {
   "codemirror_mode": {
    "name": "ipython",
    "version": 3
   },
   "file_extension": ".py",
   "mimetype": "text/x-python",
   "name": "python",
   "nbconvert_exporter": "python",
   "pygments_lexer": "ipython3",
   "version": "3.9.18"
  }
 },
 "nbformat": 4,
 "nbformat_minor": 2
}
