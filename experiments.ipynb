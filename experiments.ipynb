{
 "cells": [
  {
   "cell_type": "markdown",
   "metadata": {},
   "source": [
    "# RadCAD Model"
   ]
  },
  {
   "cell_type": "code",
   "execution_count": 1,
   "metadata": {},
   "outputs": [],
   "source": [
    "import pandas as pd\n",
    "import numpy as np\n",
    "from radcad import Model, Simulation, Experiment\n",
    "from radcad.engine import Engine, Backend\n",
    "#importing radcad model from models folder\n",
    "from models.infinite_runner import model, simulation, experiment"
   ]
  },
  {
   "cell_type": "code",
   "execution_count": 2,
   "metadata": {},
   "outputs": [
    {
     "data": {
      "text/html": [
       "<div>\n",
       "<style scoped>\n",
       "    .dataframe tbody tr th:only-of-type {\n",
       "        vertical-align: middle;\n",
       "    }\n",
       "\n",
       "    .dataframe tbody tr th {\n",
       "        vertical-align: top;\n",
       "    }\n",
       "\n",
       "    .dataframe thead th {\n",
       "        text-align: right;\n",
       "    }\n",
       "</style>\n",
       "<table border=\"1\" class=\"dataframe\">\n",
       "  <thead>\n",
       "    <tr style=\"text-align: right;\">\n",
       "      <th></th>\n",
       "      <th>distance</th>\n",
       "      <th>coins</th>\n",
       "      <th>difficulty_factor</th>\n",
       "      <th>player_crashes</th>\n",
       "      <th>simulation</th>\n",
       "      <th>subset</th>\n",
       "      <th>run</th>\n",
       "      <th>substep</th>\n",
       "      <th>timestep</th>\n",
       "    </tr>\n",
       "  </thead>\n",
       "  <tbody>\n",
       "    <tr>\n",
       "      <th>0</th>\n",
       "      <td>0.0</td>\n",
       "      <td>0.0</td>\n",
       "      <td>0.0</td>\n",
       "      <td>0</td>\n",
       "      <td>0</td>\n",
       "      <td>0</td>\n",
       "      <td>1</td>\n",
       "      <td>0</td>\n",
       "      <td>0</td>\n",
       "    </tr>\n",
       "    <tr>\n",
       "      <th>1</th>\n",
       "      <td>5.0</td>\n",
       "      <td>0.0</td>\n",
       "      <td>0.0</td>\n",
       "      <td>0</td>\n",
       "      <td>0</td>\n",
       "      <td>0</td>\n",
       "      <td>1</td>\n",
       "      <td>1</td>\n",
       "      <td>1</td>\n",
       "    </tr>\n",
       "    <tr>\n",
       "      <th>2</th>\n",
       "      <td>10.0</td>\n",
       "      <td>1.0</td>\n",
       "      <td>1.0</td>\n",
       "      <td>0</td>\n",
       "      <td>0</td>\n",
       "      <td>0</td>\n",
       "      <td>1</td>\n",
       "      <td>1</td>\n",
       "      <td>2</td>\n",
       "    </tr>\n",
       "    <tr>\n",
       "      <th>3</th>\n",
       "      <td>15.0</td>\n",
       "      <td>2.0</td>\n",
       "      <td>1.0</td>\n",
       "      <td>0</td>\n",
       "      <td>0</td>\n",
       "      <td>0</td>\n",
       "      <td>1</td>\n",
       "      <td>1</td>\n",
       "      <td>3</td>\n",
       "    </tr>\n",
       "    <tr>\n",
       "      <th>4</th>\n",
       "      <td>20.0</td>\n",
       "      <td>3.0</td>\n",
       "      <td>2.0</td>\n",
       "      <td>0</td>\n",
       "      <td>0</td>\n",
       "      <td>0</td>\n",
       "      <td>1</td>\n",
       "      <td>1</td>\n",
       "      <td>4</td>\n",
       "    </tr>\n",
       "  </tbody>\n",
       "</table>\n",
       "</div>"
      ],
      "text/plain": [
       "   distance  coins  difficulty_factor  player_crashes  simulation  subset  \\\n",
       "0       0.0    0.0                0.0               0           0       0   \n",
       "1       5.0    0.0                0.0               0           0       0   \n",
       "2      10.0    1.0                1.0               0           0       0   \n",
       "3      15.0    2.0                1.0               0           0       0   \n",
       "4      20.0    3.0                2.0               0           0       0   \n",
       "\n",
       "   run  substep  timestep  \n",
       "0    1        0         0  \n",
       "1    1        1         1  \n",
       "2    1        1         2  \n",
       "3    1        1         3  \n",
       "4    1        1         4  "
      ]
     },
     "execution_count": 2,
     "metadata": {},
     "output_type": "execute_result"
    }
   ],
   "source": [
    "# printing just to check if the model is working\n",
    "df = pd.DataFrame(experiment.run())\n",
    "df.head()"
   ]
  },
  {
   "cell_type": "markdown",
   "metadata": {},
   "source": [
    "# Language model connection"
   ]
  },
  {
   "cell_type": "markdown",
   "metadata": {},
   "source": [
    "![Alt text](image.png)"
   ]
  },
  {
   "cell_type": "code",
   "execution_count": 3,
   "metadata": {},
   "outputs": [],
   "source": [
    "import openai\n",
    "import json\n",
    "import os\n",
    "from dotenv import load_dotenv"
   ]
  },
  {
   "cell_type": "code",
   "execution_count": 4,
   "metadata": {},
   "outputs": [],
   "source": [
    "load_dotenv()\n",
    "openai.api_key = os.getenv(\"OPENAI_API_KEY\")"
   ]
  },
  {
   "cell_type": "markdown",
   "metadata": {},
   "source": [
    "## Toolkit"
   ]
  },
  {
   "cell_type": "code",
   "execution_count": 5,
   "metadata": {},
   "outputs": [],
   "source": [
    "from langchain.agents import create_pandas_dataframe_agent\n",
    "# from langchain.agents.agent_types import AgentType\n",
    "from langchain.llms import OpenAI"
   ]
  },
  {
   "cell_type": "code",
   "execution_count": 6,
   "metadata": {},
   "outputs": [],
   "source": [
    "# tools in the tool kit\n",
    "\n",
    "\n",
    "def change_param(param,value):\n",
    "    '''Changes the value of a parameter in the model'''\n",
    "    # simulation.model.initial_state.update({\n",
    "    # })\n",
    "    value = float(value)\n",
    "    simulation.model.params.update({\n",
    "        param: [value]\n",
    "    })\n",
    "    experiment = Experiment(simulation)\n",
    "    experiment.engine = Engine()\n",
    "    result = experiment.run()\n",
    "    # Convert the results to a pandas DataFrame\n",
    "    globals()['df'] = pd.DataFrame(result)\n",
    "    return f'new {param} value is {value} and the simulation dataframe is updated'\n",
    "\n",
    "def model_info(param):\n",
    "    '''Returns the information about the model'''\n",
    "    if param in simulation.model.params:\n",
    "        return f'{param} = {simulation.model.params[param]}'\n",
    "    else:\n",
    "        return f'{param} is not a parameter of the model'\n",
    "\n",
    "# pandas agent as a tool\n",
    "\n",
    "def analyze_dataframe(question):\n",
    "    '''Analyzes the dataframe and returns the answer to the question'''\n",
    "    pandas_agent = agent = create_pandas_dataframe_agent(OpenAI(temperature=0), df, verbose=True)\n",
    "    answer = pandas_agent.run(question)\n",
    "    \n",
    "    return answer"
   ]
  },
  {
   "cell_type": "code",
   "execution_count": 7,
   "metadata": {},
   "outputs": [
    {
     "name": "stdout",
     "output_type": "stream",
     "text": [
      "\n",
      "\n",
      "\u001b[1m> Entering new AgentExecutor chain...\u001b[0m\n",
      "\u001b[32;1m\u001b[1;3mThought: I need to find the last row in the dataframe\n",
      "Action: python_repl_ast\n",
      "Action Input: df.tail(1)\u001b[0m\n",
      "Observation: \u001b[36;1m\u001b[1;3m    distance  coins  difficulty_factor  player_crashes  simulation  subset  \\\n",
      "40      85.0   23.0                8.0               1           0       0   \n",
      "\n",
      "    run  substep  timestep  \n",
      "40    1        1        40  \u001b[0m\n",
      "Thought:\u001b[32;1m\u001b[1;3m I now know the final answer\n",
      "Final Answer: 85.0\u001b[0m\n",
      "\n",
      "\u001b[1m> Finished chain.\u001b[0m\n"
     ]
    },
    {
     "data": {
      "text/plain": [
       "'85.0'"
      ]
     },
     "execution_count": 7,
     "metadata": {},
     "output_type": "execute_result"
    }
   ],
   "source": [
    "# analyze_dataframe('what is the final value of the column distance')"
   ]
  },
  {
   "cell_type": "code",
   "execution_count": 8,
   "metadata": {},
   "outputs": [],
   "source": [
    "# tool descriptions\n",
    "\n",
    "function_descriptions_multiple = [\n",
    "    {\n",
    "        \"name\": \"change_param\",\n",
    "        \"description\": \"Changes the parameter of the cadcad simulation and returns dataframe as a global object. The parameter must be in this list:\" + str(model.params.keys()),\n",
    "        \"parameters\": {\n",
    "            \"type\": \"object\",\n",
    "            \"properties\": {\n",
    "                \"param\": {\n",
    "                    \"type\": \"string\",\n",
    "                    \"description\": \"parameter to change. choose from the list\" + str(model.params.keys()),\n",
    "                },\n",
    "                \"value\": {\n",
    "                    \"type\": \"string\",\n",
    "                    \"description\": \"value to change the parameter to, eg. 0.1\",\n",
    "                },\n",
    "            },\n",
    "            \"required\": [\"param\", \"value\"],\n",
    "        },\n",
    "    },\n",
    "    {\n",
    "        \"name\": \"model_info\",\n",
    "        \"description\": \"print current state of the simulation parameters\",\n",
    "        \"parameters\": {\n",
    "            \"type\": \"object\",\n",
    "            \"properties\": {\n",
    "                \"param\": {\n",
    "                    \"type\": \"string\",\n",
    "                    \"description\": \"type of information to print. choose from the list: \" + str(model.params.keys()),\n",
    "                },\n",
    "            },\n",
    "            \"required\": [\"param\"],\n",
    "        },\n",
    "    },\n",
    "    {\n",
    "        \"name\": \"analyze_dataframe\",\n",
    "        \"description\": \"Use this whenever a quantitative question is asked about the dataframe\",\n",
    "        \"parameters\": {\n",
    "            \"type\": \"object\",\n",
    "            \"properties\": {\n",
    "                \"question\": {\n",
    "                    \"type\": \"string\",\n",
    "                    \"description\": \"The question asked by user that can be answered by an LLM dataframe agent\",\n",
    "                },\n",
    "            },\n",
    "            \"required\": [\"question\"],\n",
    "        },\n",
    "    },\n",
    "]"
   ]
  },
  {
   "cell_type": "markdown",
   "metadata": {},
   "source": [
    "# Agents"
   ]
  },
  {
   "cell_type": "code",
   "execution_count": 9,
   "metadata": {},
   "outputs": [],
   "source": [
    "def executor_agent(prompt):\n",
    "    \"\"\"Give LLM a given prompt and get an answer.\"\"\"\n",
    "\n",
    "    completion = openai.ChatCompletion.create(\n",
    "        model=\"gpt-3.5-turbo-0613\",\n",
    "        messages=[{\"role\": \"user\", \"content\": prompt}],\n",
    "        # add function calling\n",
    "        functions=function_descriptions_multiple,\n",
    "        function_call=\"auto\",  # specify the function call\n",
    "    )\n",
    "\n",
    "    output = completion.choices[0].message\n",
    "    return output\n",
    "\n",
    "\n",
    "# user_prompt = \"whats the current value of crash chance?\"\n",
    "# print(executor_agent(user_prompt))"
   ]
  },
  {
   "cell_type": "code",
   "execution_count": 10,
   "metadata": {},
   "outputs": [],
   "source": [
    "# user_prompt = \"what is the avg value of the second row in the simulation?\"\n",
    "# print(executor_agent(user_prompt))"
   ]
  },
  {
   "cell_type": "code",
   "execution_count": 11,
   "metadata": {},
   "outputs": [],
   "source": [
    "# user_prompt = \"Change the parameter of crash chance to 20\"\n",
    "# answer = executor_agent(user_prompt)\n",
    "# answer"
   ]
  },
  {
   "cell_type": "code",
   "execution_count": 12,
   "metadata": {},
   "outputs": [],
   "source": [
    "def planner_agent(prompt):\n",
    "    \"\"\"Give LLM a given prompt and get an answer.\"\"\"\n",
    "\n",
    "    completion = openai.ChatCompletion.create(\n",
    "        model=\"gpt-3.5-turbo-0613\",\n",
    "        messages=[\n",
    "            {\n",
    "            \"role\": \"system\",\n",
    "            \"content\": '''\n",
    "            You will be provided with a question by the user that is trying to run a cadcad python model. Your job is to provide the set of actions to take to get to the answer using the functions available.\n",
    "            For example, if the user asks \"if my crash chance parameter was 0.2, what would the avg coins be at the end of the simulation?\" you reply with \"### 1) we use the function change_param to change the crash chance parameter to 0.2,\\n 2) use the function analyze_dataframe to get the avg coins at the end of the simulation. ###\" \n",
    "            if the user asks \"what would happen to the coins at the end of the simulation if my crash chance param was 10 perc lower?\" you reply with \"### 1) find out the current value of crash chance param using the model_info function,\\n 2) we use function change_param to change the crash chance parameter to 0.1*crash_chance .\\n 3) we use function analyze_dataframe to get the avg coins at the end of the simulation. ###\"\n",
    "            These are the functions available to you: {function_descriptions_multiple}. always remember to start and end plan with ###.\n",
    "            '''\n",
    "            },\n",
    "            {\n",
    "            \"role\": \"user\",\n",
    "            \"content\": prompt\n",
    "            }\n",
    "        ],\n",
    "    )\n",
    "\n",
    "    output = completion.choices[0].message\n",
    "    return output"
   ]
  },
  {
   "cell_type": "code",
   "execution_count": 13,
   "metadata": {},
   "outputs": [
    {
     "name": "stdout",
     "output_type": "stream",
     "text": [
      "### 1) To check the current value of the crash chance parameter, we can use the model_info function.\n",
      "2) Use the change_param function to set the crash chance parameter to 20.\n",
      "3) Finally, we can use the analyze_dataframe function to calculate the average coins at the end of the simulation. ###\n"
     ]
    }
   ],
   "source": [
    "answer = planner_agent(\"whats the current value of crash chance, increase it to 20 and tell me the avg coins at the end of the simulation?\")\n",
    "print(answer.content)"
   ]
  },
  {
   "cell_type": "markdown",
   "metadata": {},
   "source": [
    "# Orchestrator"
   ]
  },
  {
   "cell_type": "code",
   "execution_count": 20,
   "metadata": {},
   "outputs": [],
   "source": [
    "from utils import plan_parser, print_color"
   ]
  },
  {
   "cell_type": "code",
   "execution_count": 21,
   "metadata": {},
   "outputs": [],
   "source": [
    "def orchestrator_pipeline(user_input):\n",
    "    plan = planner_agent(user_input).content\n",
    "    plan_list = plan_parser(plan)\n",
    "    print_color(\"Planner Agent:\", \"32\")\n",
    "    print('I have made a plan to follow: \\n')\n",
    "\n",
    "    for plan in plan_list:\n",
    "        print(plan)\n",
    "\n",
    "    print('\\n')\n",
    "    for plan in plan_list:\n",
    "        print_color(\"Executor Agent:\", \"31\")\n",
    "        print('Thought: My task is to', plan)\n",
    "        answer = executor_agent(plan)\n",
    "        print('Action: I should call', answer.function_call.name,'function with these' , json.loads(answer.function_call.arguments),'arguments')\n",
    "        if answer.function_call.name == 'analyze_dataframe':\n",
    "            print_color(\"Analyzer Agent:\", \"34\")\n",
    "        print('Observation: I got this answer', eval(answer.function_call.name)(**json.loads(answer.function_call.arguments)))\n"
   ]
  },
  {
   "cell_type": "code",
   "execution_count": 19,
   "metadata": {},
   "outputs": [
    {
     "name": "stdout",
     "output_type": "stream",
     "text": [
      "\u001b[32mPlanner Agent:\u001b[0m\n",
      "I have made a plan to follow: \n",
      "\n",
      " 1) To find out the current value of the crash chance parameter, we can use the `model_info` function.\n",
      "2) We can then use the `change_param` function to change the crash chance parameter to 20.\n",
      "3) Finally, we can use the `analyze_dataframe` function to get the final coins at the end of the simulation. \n",
      "\n",
      "\n",
      "\u001b[31mExecutor Agent:\u001b[0m\n",
      "Thought: My task is to  1) To find out the current value of the crash chance parameter, we can use the `model_info` function.\n",
      "Action: I should call model_info function with these {'param': 'crash_chance'} arguments\n",
      "Observation: I got this answer crash_chance = [0.2]\n",
      "\u001b[31mExecutor Agent:\u001b[0m\n",
      "Thought: My task is to 2) We can then use the `change_param` function to change the crash chance parameter to 20.\n",
      "Action: I should call change_param function with these {'param': 'crash_chance', 'value': '20'} arguments\n",
      "Observation: I got this answer new crash_chance value is 20.0 and the simulation dataframe is updated\n",
      "\u001b[31mExecutor Agent:\u001b[0m\n",
      "Thought: My task is to 3) Finally, we can use the `analyze_dataframe` function to get the final coins at the end of the simulation. \n",
      "Action: I should call analyze_dataframe function with these {'question': 'What is the final coins at the end of the simulation?'} arguments\n",
      "\u001b[34mAnalyzer Agent:\u001b[0m\n",
      "\n",
      "\n",
      "\u001b[1m> Entering new AgentExecutor chain...\u001b[0m\n",
      "\u001b[32;1m\u001b[1;3mThought: I need to find the last row of the dataframe\n",
      "Action: python_repl_ast\n",
      "Action Input: df.tail()\u001b[0m\n",
      "Observation: \u001b[36;1m\u001b[1;3m    distance  coins  difficulty_factor  player_crashes  simulation  subset  \\\n",
      "36      25.0    4.0                2.0               1           0       0   \n",
      "37      25.0    4.0                2.0               1           0       0   \n",
      "38      25.0    4.0                2.0               1           0       0   \n",
      "39      25.0    4.0                2.0               1           0       0   \n",
      "40      25.0    4.0                2.0               1           0       0   \n",
      "\n",
      "    run  substep  timestep  \n",
      "36    1        1        36  \n",
      "37    1        1        37  \n",
      "38    1        1        38  \n",
      "39    1        1        39  \n",
      "40    1        1        40  \u001b[0m\n",
      "Thought:\u001b[32;1m\u001b[1;3m The last row has a coins value of 4\n",
      "Final Answer: The final coins at the end of the simulation is 4.\u001b[0m\n",
      "\n",
      "\u001b[1m> Finished chain.\u001b[0m\n",
      "Observation: I got this answer The final coins at the end of the simulation is 4.\n"
     ]
    }
   ],
   "source": [
    "orchestrator_pipeline(\"whats the current value of crash chance, change it to 20, and tell me the final coins at the end of the simulation?\")"
   ]
  },
  {
   "cell_type": "code",
   "execution_count": null,
   "metadata": {},
   "outputs": [],
   "source": [
    "# execute code here \n",
    "# what i can do is make a list of known values and add them each time a task is done."
   ]
  }
 ],
 "metadata": {
  "kernelspec": {
   "display_name": "gpt_engineer",
   "language": "python",
   "name": "python3"
  },
  "language_info": {
   "codemirror_mode": {
    "name": "ipython",
    "version": 3
   },
   "file_extension": ".py",
   "mimetype": "text/x-python",
   "name": "python",
   "nbconvert_exporter": "python",
   "pygments_lexer": "ipython3",
   "version": "3.9.18"
  },
  "orig_nbformat": 4
 },
 "nbformat": 4,
 "nbformat_minor": 2
}
